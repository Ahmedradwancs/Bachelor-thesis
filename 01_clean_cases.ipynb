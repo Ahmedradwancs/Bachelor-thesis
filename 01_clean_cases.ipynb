{
 "cells": [
  {
   "cell_type": "markdown",
   "metadata": {},
   "source": [
    "## Tech Support Case Cleaning and Anonymization Pipeline"
   ]
  },
  {
   "cell_type": "markdown",
   "metadata": {},
   "source": [
    "## 📦 1. Imports & Setup\n"
   ]
  },
  {
   "cell_type": "code",
   "execution_count": null,
   "metadata": {},
   "outputs": [],
   "source": [
    "import os\n",
    "import pandas as pd\n",
    "import numpy as np\n",
    "import re\n",
    "import time\n",
    "import matplotlib.pyplot as plt\n",
    "import seaborn as sns\n",
    "from tqdm import tqdm\n",
    "import langid\n",
    "from langdetect import detect, DetectorFactory\n",
    "import spacy\n",
    "from langdetect import detect\n",
    "import langid\n",
    "from spacy.language import Language\n",
    "import en_core_web_sm\n",
    "from spacy_langdetect import LanguageDetector\n",
    "from presidio_analyzer import AnalyzerEngine\n",
    "from presidio_anonymizer import AnonymizerEngine\n",
    "import openpyxl\n",
    "from nltk.sentiment import SentimentIntensityAnalyzer\n",
    "import seaborn as sns\n",
    "import matplotlib.pyplot as plt\n",
    "from sklearn.feature_extraction.text import CountVectorizer\n",
    "from nltk.sentiment import SentimentIntensityAnalyzer\n",
    "from sklearn.feature_extraction.text import CountVectorizer\n",
    "from scripts.utils import (\n",
    "    load_or_convert_to_csv, save_processed, log_time, remove_exact_duplicates,\n",
    "    is_english_langdetect, is_english_langid, detect_language_spacy,\n",
    "    anonymize_text, replace_name_patterns, read_processed\n",
    ")"
   ]
  },
  {
   "cell_type": "markdown",
   "metadata": {},
   "source": [
    "## 📂 2. Load Dataset"
   ]
  },
  {
   "cell_type": "code",
   "execution_count": null,
   "metadata": {},
   "outputs": [],
   "source": [
    "# Load raw data\n",
    "cases_df = load_or_convert_to_csv(\"cases\")  # auto loads from data/raw/"
   ]
  },
  {
   "cell_type": "code",
   "execution_count": null,
   "metadata": {},
   "outputs": [],
   "source": [
    "# Preview data\n",
    "print(\"Initial shape:\", cases_df.shape)\n",
    "display(cases_df.head(5))"
   ]
  },
  {
   "cell_type": "markdown",
   "metadata": {},
   "source": [
    "## 🧹 3. Initial Cleaning"
   ]
  },
  {
   "cell_type": "code",
   "execution_count": null,
   "metadata": {},
   "outputs": [],
   "source": [
    "start = time.time()\n",
    "initial_count = len(cases_df)\n",
    "cases_df = cases_df[cases_df['case_description'].notna() & (cases_df['case_description'].str.strip() != \"\")]\n",
    "log_time(start, \"Removed empty or null descriptions\")\n",
    "print(f\"✅ Removed {initial_count - len(cases_df)} cases\")"
   ]
  },
  {
   "cell_type": "code",
   "execution_count": null,
   "metadata": {},
   "outputs": [],
   "source": [
    "# Rename case description column\n",
    "cases_df.rename(columns={\"case_description\": \"description\"}, inplace=True)"
   ]
  },
  {
   "cell_type": "code",
   "execution_count": null,
   "metadata": {},
   "outputs": [],
   "source": [
    "# Remove duplicates based on case_number or case_description\n",
    "cases_df, removed_cases = remove_exact_duplicates(\n",
    "    cases_df,\n",
    "    subset=[\"case_number\", \"description\"],\n",
    "    save_prefix=\"cases\"\n",
    ")"
   ]
  },
  {
   "cell_type": "markdown",
   "metadata": {},
   "source": [
    "### Drop duplicate case_numbers if found"
   ]
  },
  {
   "cell_type": "markdown",
   "metadata": {},
   "source": [
    "# 🔒 4. Anonymization"
   ]
  },
  {
   "cell_type": "markdown",
   "metadata": {},
   "source": [
    "## 🧪 Apply Custom Name Replacement and spacy anonymization"
   ]
  },
  {
   "cell_type": "code",
   "execution_count": null,
   "metadata": {},
   "outputs": [],
   "source": [
    "# Apply the replacement and the spacy anonymization to create a final anonymized version\n",
    "start = time.time()\n",
    "cases_df[\"description\"] = cases_df[\"description\"].apply(anonymize_text)\n",
    "cases_df[\"description\"] = cases_df[\"description\"].apply(replace_name_patterns)\n",
    "elapsed = time.time() - start\n",
    "print(f\"✅ Applied name pattern replacement and spacy anonymization (Time: {elapsed:.2f} seconds)\")"
   ]
  },
  {
   "cell_type": "markdown",
   "metadata": {},
   "source": [
    "## 🌍 5. Language Detection Comparison"
   ]
  },
  {
   "cell_type": "code",
   "execution_count": null,
   "metadata": {},
   "outputs": [],
   "source": [
    "# Language detection\n",
    "cases_df[\"langdetect_is_en\"] = cases_df[\"description\"].apply(is_english_langdetect)\n",
    "cases_df[\"langid_is_en\"] = cases_df[\"description\"].apply(is_english_langid)\n",
    "cases_df[\"spacy_lang\"] = cases_df[\"description\"].apply(detect_language_spacy)\n",
    "\n",
    "# Compare disagreements\n",
    "cases_df[cases_df[\"langdetect_is_en\"] != cases_df[\"langid_is_en\"]][\n",
    "    [\"description\", \"langdetect_is_en\", \"langid_is_en\"]\n",
    "]"
   ]
  },
  {
   "cell_type": "code",
   "execution_count": null,
   "metadata": {},
   "outputs": [],
   "source": [
    "# filter cases where is _english_spacy is en OR is_english_langid is True to keep only english cases\n",
    "cases_df = cases_df[(cases_df[\"spacy_lang\"] == \"en\") | (cases_df[\"langid_is_en\"] == True)]\n"
   ]
  },
  {
   "cell_type": "code",
   "execution_count": null,
   "metadata": {},
   "outputs": [],
   "source": [
    "# show the information of the dataframe\n",
    "print(cases_df.columns)"
   ]
  },
  {
   "cell_type": "code",
   "execution_count": null,
   "metadata": {},
   "outputs": [],
   "source": [
    "# Drop the extra columns\n",
    "cases_df.drop(columns=[\"langdetect_is_en\", \"langid_is_en\", \"spacy_lang\"], inplace=True)"
   ]
  },
  {
   "cell_type": "code",
   "execution_count": null,
   "metadata": {},
   "outputs": [],
   "source": [
    "# Save the processed data\n",
    "save_processed(cases_df, \"cases.csv\")"
   ]
  }
 ],
 "metadata": {
  "kernelspec": {
   "display_name": ".venv",
   "language": "python",
   "name": "python3"
  },
  "language_info": {
   "codemirror_mode": {
    "name": "ipython",
    "version": 3
   },
   "file_extension": ".py",
   "mimetype": "text/x-python",
   "name": "python",
   "nbconvert_exporter": "python",
   "pygments_lexer": "ipython3",
   "version": "3.11.9"
  }
 },
 "nbformat": 4,
 "nbformat_minor": 2
}
