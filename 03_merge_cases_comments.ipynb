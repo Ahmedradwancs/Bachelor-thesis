{
 "cells": [
  {
   "cell_type": "code",
   "execution_count": null,
   "metadata": {},
   "outputs": [],
   "source": [
    "import pandas as pd"
   ]
  },
  {
   "cell_type": "code",
   "execution_count": null,
   "metadata": {},
   "outputs": [],
   "source": [
    "# Load the anonymized English cases dataset from processed folder in data directory\n",
    "cases_df = pd.read_csv('data/processed/cases.csv')\n",
    "\n",
    "# Show the columns in the dataset\n",
    "print(cases_df.columns)"
   ]
  },
  {
   "cell_type": "code",
   "execution_count": null,
   "metadata": {},
   "outputs": [],
   "source": [
    "# drop unnecessary columns for merging with comments\n",
    "cases_df = cases_df[['case_number', 'case_origin', 'case_subject', 'description']]\n"
   ]
  },
  {
   "cell_type": "code",
   "execution_count": null,
   "metadata": {},
   "outputs": [],
   "source": [
    "# Load the anonymized English comments dataset from processed folder in data directory\n",
    "comments_df = pd.read_csv('data/processed/comments.csv')\n",
    "\n",
    "# Show the columns in the dataset\n",
    "print(comments_df.columns)"
   ]
  },
  {
   "cell_type": "code",
   "execution_count": null,
   "metadata": {},
   "outputs": [],
   "source": [
    "# Drop unnecessary columns for merging with cases\n",
    "comments_df = comments_df[['case_number', 'message_is_customer', 'message_body']]"
   ]
  },
  {
   "cell_type": "code",
   "execution_count": null,
   "metadata": {},
   "outputs": [],
   "source": [
    "# Shorten the name of message_body_s to comment\n",
    "comments_df = comments_df.rename(columns={'message_body': 'comment'})\n",
    "\n",
    "\n",
    "print(\"Comments dataset columns after renaming:\")\n",
    "print(comments_df.columns)"
   ]
  },
  {
   "cell_type": "code",
   "execution_count": null,
   "metadata": {},
   "outputs": [],
   "source": [
    "# Check if message is customer true or false. If customer is \"true\", then the comment is a customer comment, of \"false\" it is a support comment, so add a word to the comment to \n",
    "# indicate that it is a customer comment or support comment.\n",
    "comments_df['comment'] = comments_df.apply(lambda x: f\"customer: {x['comment']}\" if x['message_is_customer'] else f\"support: {x['comment']}\", axis=1)\n",
    "\n",
    "# Show the first 5 rows of the comments dataset after adding customer or support to the comment\n",
    "print(\"First 5 rows of comments dataset after adding customer or support to the comment:\")\n",
    "print(comments_df.head()) "
   ]
  },
  {
   "cell_type": "code",
   "execution_count": null,
   "metadata": {},
   "outputs": [],
   "source": [
    "# Drop the message_is_customer column from the comments dataset as it is no longer needed\n",
    "comments_df = comments_df.drop(columns=['message_is_customer'])"
   ]
  },
  {
   "cell_type": "code",
   "execution_count": null,
   "metadata": {},
   "outputs": [],
   "source": [
    "# Show the number of rows in the dataset before grouping comments\n",
    "print(f\"Number of rows before grouping comments: {len(comments_df)}\")\n",
    "\n",
    "# 1. First, group comments by case_number and combine them into a single text field\n",
    "grouped_comments = comments_df.groupby('case_number')['comment'].apply(lambda x: ' '.join(x)).reset_index()\n",
    "\n",
    "# 2. Merge grouped comments with cases\n",
    "merged_df = pd.merge(cases_df, grouped_comments, on='case_number', how='left')  # left join to keep all cases\n",
    "\n",
    "# 3. Update the description\n",
    "merged_df['description'] = merged_df.apply(\n",
    "    lambda row: f\"{row['description']} {row['comment']}\" if pd.notna(row['comment']) else row['description'],\n",
    "    axis=1\n",
    ")\n",
    "# 4. Drop the temporary comment column\n",
    "merged_df = merged_df.drop(columns=['comment'])\n",
    "\n",
    "# Now merged_df is your final dataset!\n",
    "print(merged_df.head())\n",
    "\n",
    "# Show the number of rows in the dataset after grouping comments\n",
    "print(f\"Number of rows after merging cases and comments: {len(merged_df)}\")"
   ]
  },
  {
   "cell_type": "code",
   "execution_count": null,
   "metadata": {},
   "outputs": [],
   "source": [
    "# Show the columns in the merged dataset\n",
    "print(\"Merged dataset columns:\")\n",
    "print(merged_df.columns)\n"
   ]
  },
  {
   "cell_type": "code",
   "execution_count": null,
   "metadata": {},
   "outputs": [],
   "source": [
    "# Save the merged dataset to a new CSV file and a neew Excel file\n",
    "merged_df.to_csv('data/final/merged_cases_comments.csv', index=False)\n",
    "merged_df.to_excel('data/final/merged_cases_comments.xlsx', index=False)"
   ]
  }
 ],
 "metadata": {
  "kernelspec": {
   "display_name": ".venv",
   "language": "python",
   "name": "python3"
  },
  "language_info": {
   "codemirror_mode": {
    "name": "ipython",
    "version": 3
   },
   "file_extension": ".py",
   "mimetype": "text/x-python",
   "name": "python",
   "nbconvert_exporter": "python",
   "pygments_lexer": "ipython3",
   "version": "3.11.9"
  }
 },
 "nbformat": 4,
 "nbformat_minor": 2
}
