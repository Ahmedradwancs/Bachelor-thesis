{
 "cells": [
  {
   "cell_type": "code",
   "execution_count": null,
   "metadata": {},
   "outputs": [],
   "source": [
    "import pandas as pd\n",
    "from prisma_llm import AI\n",
    "import os"
   ]
  },
  {
   "cell_type": "code",
   "execution_count": null,
   "metadata": {},
   "outputs": [],
   "source": [
    "# Load the usability cases\n",
    "usability_df = pd.read_csv(\"./llm/usability_cases.csv\")\n"
   ]
  },
  {
   "cell_type": "code",
   "execution_count": null,
   "metadata": {},
   "outputs": [],
   "source": [
    "ai = AI()"
   ]
  },
  {
   "cell_type": "code",
   "execution_count": null,
   "metadata": {},
   "outputs": [],
   "source": [
    "def build_subcategory_prompt(description):\n",
    "    prompt = f\"\"\"\n",
    "I have a set of tech support case descriptions that have already been classified as **Usability** cases.\n",
    "\n",
    "I want to identify the specific usability-related issues customers are reporting.  \n",
    "Please analyze each case carefully and classify it into **one of the following sub-categories**, or propose a new one if necessary:\n",
    "\n",
    "- Reset and Recovery\n",
    "- Configuration and Setup\n",
    "- User Interface Issues\n",
    "- Integration Issues\n",
    "- Error Messages\n",
    "- Data Export and Import\n",
    "- Feature Requests\n",
    "- Manual or Documentation Issues\n",
    "- Instructions Clarity Problems\n",
    "- Unexpected Software Behavior\n",
    "\n",
    "**Important**:\n",
    "- Carefully read the case description and select the sub-category that best fits the issue.\n",
    "- If none of the above categories fit well, choose \"**Other Usability Issue**\" and optionally suggest a better-fitting sub-category.\n",
    "- If you suggest a new sub-category, please ensure it is relevant to usability issues and not a general tech support issue.\n",
    "- **Answer with only the sub-category name** (e.g., \"Software User Interface Problems\"). No explanations.\n",
    "\n",
    "---\n",
    "\n",
    "Case: \\\"{description}\\\"\n",
    "\n",
    "Answer:\n",
    "\"\"\"\n",
    "    return prompt\n"
   ]
  },
  {
   "cell_type": "code",
   "execution_count": null,
   "metadata": {},
   "outputs": [],
   "source": [
    "def categorize_case(description):\n",
    "    response = ai.chat(build_subcategory_prompt(description))\n",
    "    return response"
   ]
  },
  {
   "cell_type": "code",
   "execution_count": null,
   "metadata": {},
   "outputs": [],
   "source": [
    "def subcategorize_usability_cases_in_batches(usability_df, batch_size=5000):\n",
    "    total_cases = len(usability_df)\n",
    "    for start in range(0, total_cases, batch_size):\n",
    "        end = min(start + batch_size, total_cases)\n",
    "        batch = usability_df.iloc[start:end].copy()\n",
    "\n",
    "        # Apply the sub-categorization function to each case\n",
    "        batch[\"sub_category\"] = batch[\"description\"].apply(categorize_case)\n",
    "\n",
    "        # Save the batch to a CSV file\n",
    "        batch.to_csv(f\"./llm/subcategorized_usability_cases_{start}_{end}.csv\", index=False)\n",
    "\n",
    "        # Print progress and distribution\n",
    "        print(f\"✅ Sub-categorized cases from {start} to {end} and saved to second_subcategorized_usability_cases_{start}_{end}.csv\")\n",
    "        print(batch[\"sub_category\"].value_counts())\n",
    "        print(\"----------\")\n"
   ]
  },
  {
   "cell_type": "code",
   "execution_count": null,
   "metadata": {},
   "outputs": [],
   "source": [
    "subcategorize_usability_cases_in_batches(usability_df, batch_size=2500)"
   ]
  },
  {
   "cell_type": "code",
   "execution_count": null,
   "metadata": {},
   "outputs": [],
   "source": [
    "# Merge the files into a single DataFrame\n",
    "subcategorized_files = [f for f in os.listdir(\"./llm/\") if f.startswith(\"subcategorized_usability_cases_\")]\n",
    "subcategorized_dfs = []\n",
    "for file in subcategorized_files:\n",
    "    df = pd.read_csv(os.path.join(\"./llm/\", file))\n",
    "    subcategorized_dfs.append(df)\n",
    "subcategorized_usability_df = pd.concat(subcategorized_dfs, ignore_index=True)\n",
    "\n",
    "# Save the final sub-categorized DataFrame to a CSV file\n",
    "subcategorized_usability_df.to_csv(\"./llm/subcategorized_usability_cases.csv\", index=False)\n"
   ]
  }
 ],
 "metadata": {
  "kernelspec": {
   "display_name": ".venv",
   "language": "python",
   "name": "python3"
  },
  "language_info": {
   "codemirror_mode": {
    "name": "ipython",
    "version": 3
   },
   "file_extension": ".py",
   "mimetype": "text/x-python",
   "name": "python",
   "nbconvert_exporter": "python",
   "pygments_lexer": "ipython3",
   "version": "3.11.9"
  }
 },
 "nbformat": 4,
 "nbformat_minor": 2
}
