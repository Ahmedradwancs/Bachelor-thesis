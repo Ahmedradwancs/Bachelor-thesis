{
 "cells": [
  {
   "cell_type": "code",
   "execution_count": null,
   "metadata": {},
   "outputs": [],
   "source": [
    "import pandas as pd\n",
    "from prisma_llm import AI\n",
    "import matplotlib.pyplot as plt\n",
    "import seaborn as sns\n",
    "import pandas as pd\n",
    "import matplotlib.pyplot as plt\n",
    "import seaborn as sns\n",
    "import matplotlib.ticker as ticker\n",
    "import matplotlib.dates as mdates\n"
   ]
  },
  {
   "cell_type": "code",
   "execution_count": null,
   "metadata": {},
   "outputs": [],
   "source": [
    "df = pd.read_csv(\"data/final/merged_cases_comments.csv\")"
   ]
  },
  {
   "cell_type": "code",
   "execution_count": null,
   "metadata": {},
   "outputs": [],
   "source": [
    "# show the number of records in the dataframe\n",
    "print(f\"Number of records in the dataframe: {len(df)}\")\n",
    "\n",
    "# show the first 5 records in the dataframe\n",
    "print(\"First 5 records in the dataframe:\")\n",
    "print(df.head())\n",
    "\n",
    "# show the columns in the dataframe\n",
    "print(\"Columns in the dataframe:\")\n",
    "print(df.columns)"
   ]
  },
  {
   "cell_type": "code",
   "execution_count": null,
   "metadata": {},
   "outputs": [],
   "source": [
    "\n",
    "ai = AI()"
   ]
  },
  {
   "cell_type": "code",
   "execution_count": null,
   "metadata": {},
   "outputs": [],
   "source": [
    "\n",
    "def build_prompt(description):\n",
    "    prompt = f\"\"\"\n",
    "You are a UX expert specialized in classifying tech support cases.\n",
    "\n",
    "Your task is to classify each case into **one of these two categories**:\n",
    "- Usability\n",
    "- Non-Usability\n",
    "\n",
    "**Definitions**:\n",
    "- **Usability**: Cases where the user struggles with understanding, finding, or operating features correctly. Examples include:\n",
    "    - Difficulty locating documentation, manuals, or instructions\n",
    "    - Difficulty finding settings, options, or buttons\n",
    "    - Confusing or unclear user interface\n",
    "    - Poor navigation, complicated workflows\n",
    "    - Missing information that prevents the user from completing a task\n",
    "\n",
    "- **Non-Usability**: Cases that are primarily about technical malfunctions, bugs, hardware failures, or network/system errors. Examples include:\n",
    "    - Hardware defects (broken devices, malfunctioning sensors)\n",
    "    - Software bugs or glitches (system crashes, error messages)\n",
    "    - Firmware or software update failures\n",
    "    - Network, server, or connectivity problems\n",
    "\n",
    "**Important**:\n",
    "- Focus on whether the case is about *ease of use* (Usability) or *technical malfunction* (Non-Usability).\n",
    "- Based on the full case description, including any customer and support comments, make your best classification.\n",
    "- **Always choose exactly one category**: either \"Usability\" or \"Non-Usability.\"\n",
    "- **Answer with only the category name. No explanations.**\n",
    "\n",
    "---\n",
    "\n",
    "Case: \\\"{description}\\\"\n",
    "\n",
    "Answer:\n",
    "\"\"\"\n",
    "    return prompt"
   ]
  },
  {
   "cell_type": "code",
   "execution_count": null,
   "metadata": {},
   "outputs": [],
   "source": [
    "def label_case(description):\n",
    "    response = ai.chat(build_prompt(description))\n",
    "    return response"
   ]
  },
  {
   "cell_type": "code",
   "execution_count": null,
   "metadata": {},
   "outputs": [],
   "source": [
    "def label_cases_in_batches(df, batch_size=5000):\n",
    "    total_cases = len(df)\n",
    "    for start in range(0, total_cases, batch_size):\n",
    "        end = min(start + batch_size, total_cases)\n",
    "        batch = df.iloc[start:end].copy()\n",
    "\n",
    "        # Apply the labeling function to the batch\n",
    "        batch[\"class\"] = batch[\"description\"].apply(label_case)\n",
    "        batch.to_csv(f\"./llm/labeled_cases_{start}_{end}.csv\", index=False)\n",
    "\n",
    "        # Print progress and distribution\n",
    "        print(f\"✅ Labeled cases from {start} to {end} and saved to labeled_cases_{start}_{end}.csv\")\n",
    "        print(batch[\"class\"].value_counts())\n",
    "        print(\"----------\")"
   ]
  },
  {
   "cell_type": "code",
   "execution_count": null,
   "metadata": {},
   "outputs": [],
   "source": [
    "# Apply the function to the entire DataFrame\n",
    "label_cases_in_batches(df, batch_size=5000)"
   ]
  },
  {
   "cell_type": "code",
   "execution_count": null,
   "metadata": {},
   "outputs": [],
   "source": [
    "#combine all the labeled cases in the llm folder into one file only use 2 columns: case_number and class to create the new file\n",
    "import pandas as pd\n",
    "import glob\n",
    "\n",
    "# Get all CSV files in the llm folder\n",
    "csv_files = glob.glob(\"./llm/labeled_cases_*.csv\")\n",
    "\n",
    "# Initialize an empty list to store DataFrames\n",
    "dataframes = []\n",
    "\n",
    "# Loop through each file and read it into a DataFrame\n",
    "for file in csv_files:\n",
    "    df = pd.read_csv(file, usecols=[\"case_number\", \"class\"])\n",
    "    dataframes.append(df)\n",
    "\n",
    "# Concatenate all DataFrames into one\n",
    "combined_df = pd.concat(dataframes, ignore_index=True)\n",
    "\n",
    "# Save the combined DataFrame to a new CSV file\n",
    "combined_df.to_csv(\"./llm/labeled_cases_combined.csv\", index=False)"
   ]
  },
  {
   "cell_type": "code",
   "execution_count": null,
   "metadata": {},
   "outputs": [],
   "source": [
    "# Now combine it again but with all columns\n",
    "import pandas as pd\n",
    "import glob\n",
    "\n",
    "\n",
    "# Get all CSV files in the llm folder\n",
    "csv_files = glob.glob(\"./llm/labeled_cases_*.csv\")\n",
    "\n",
    "\n",
    "# Initialize an empty list to store DataFrames\n",
    "dataframes = []\n",
    "\n",
    "# Loop through each file and read it into a DataFrame\n",
    "for file in csv_files:\n",
    "    df = pd.read_csv(file)\n",
    "    dataframes.append(df)\n",
    "\n",
    "# Concatenate all DataFrames into one\n",
    "combined_df = pd.concat(dataframes, ignore_index=True)\n",
    "\n",
    "# Save the combined DataFrame to a new CSV file\n",
    "combined_df.to_csv(\"./llm/labeled_cases_combined_all_columns.csv\", index=False)\n",
    "\n"
   ]
  },
  {
   "cell_type": "code",
   "execution_count": null,
   "metadata": {},
   "outputs": [],
   "source": [
    "# show me the count of each class in the combined file\n",
    "combined_df = pd.read_csv(\"./llm/labeled_cases_combined_all_columns.csv\")\n",
    "combined_df[\"class\"].unique()\n",
    "# show all the unique values in the class column by increasing the pd.options.display.max_height\n",
    "pd.options.display.max_rows = 1000\n",
    "combined_df[\"class\"].unique()\n"
   ]
  },
  {
   "cell_type": "code",
   "execution_count": null,
   "metadata": {},
   "outputs": [],
   "source": [
    "# Show the count of each class in the combined file\n",
    "combined_df[\"class\"].value_counts()"
   ]
  },
  {
   "cell_type": "code",
   "execution_count": null,
   "metadata": {},
   "outputs": [],
   "source": [
    "# Only keep the Usability and Not Usability classes\n",
    "combined_df = combined_df[combined_df[\"class\"].isin([\"Usability\", \"Non-Usability\"])]\n",
    "\n",
    "# Show the count of each class in the combined file again\n",
    "combined_df[\"class\"].value_counts()"
   ]
  },
  {
   "cell_type": "code",
   "execution_count": null,
   "metadata": {},
   "outputs": [],
   "source": [
    "# show number of records in combined_df\n",
    "len(combined_df)\n"
   ]
  },
  {
   "cell_type": "code",
   "execution_count": null,
   "metadata": {},
   "outputs": [],
   "source": [
    "# save the dataframe to a csv file named All cases labelled or something like that name\n",
    "combined_df.to_csv(\"./llm/All_cases_labelled.csv\", index=False)\n",
    "\n",
    "# save it in an xlsx file too\n",
    "combined_df.to_excel(\"./llm/All_cases_labelled.xlsx\", index=False)"
   ]
  },
  {
   "cell_type": "code",
   "execution_count": null,
   "metadata": {},
   "outputs": [],
   "source": [
    "# Save the Usability cases to a new CSV file and excel file\n",
    "combined_df[combined_df[\"class\"] == \"Usability\"].to_csv(\"./llm/usability_cases.csv\", index=False)\n",
    "combined_df[combined_df[\"class\"] == \"Usability\"].to_excel(\"./llm/usability_cases.xlsx\", index=False)\n",
    "\n",
    "# Save the Non-Usability cases to a new CSV file and excel file\n",
    "combined_df[combined_df[\"class\"] == \"Non-Usability\"].to_csv(\"./llm/non_usability_cases.csv\", index=False)\n",
    "combined_df[combined_df[\"class\"] == \"Non-Usability\"].to_excel(\"./llm/non_usability_cases.xlsx\", index=False)"
   ]
  },
  {
   "cell_type": "code",
   "execution_count": null,
   "metadata": {},
   "outputs": [],
   "source": [
    "# Set the style of seaborn\n",
    "sns.set(style=\"whitegrid\")\n",
    "\n",
    "# Set the figure size\n",
    "plt.figure(figsize=(10, 6))\n",
    "# Set the font size\n",
    "plt.rcParams.update({'font.size': 14})\n",
    "# Set the font family\n",
    "plt.rcParams.update({'font.family': 'Arial'})\n",
    "# Set the font weight\n",
    "plt.rcParams.update({'font.weight': 'bold'})\n",
    "# Set the font size of the ticks\n",
    "plt.tick_params(axis='both', which='major', labelsize=14)\n",
    "\n",
    "# Set the font size of the legend\n",
    "plt.rcParams.update({'legend.fontsize': 14})\n",
    "# Set the font size of the title\n",
    "plt.rcParams.update({'axes.titlesize': 16})\n",
    "# Set the font size of the x and y labels\n",
    "plt.rcParams.update({'axes.labelsize': 14})\n",
    "# Set the font size of the x and y ticks\n",
    "plt.rcParams.update({'xtick.labelsize': 14})\n",
    "\n",
    "# Show the distribution of the classes in the combined file with percentages and count\n",
    "combined_df[\"class\"].value_counts(normalize=True).plot(kind=\"bar\", color=[\"#1f77b4\", \"#ff7f0e\"])\n",
    "plt.title(\"Distribution of Usability and Non-Usability Cases\")\n",
    "plt.xlabel(\"Class\")\n",
    "plt.ylabel(\"Percentage\")\n",
    "plt.xticks(rotation=45)\n",
    "plt.tight_layout()\n",
    "plt.savefig(\"./llm/distribution_of_usability_and_non_usability_cases_percentage.png\", dpi=300)\n",
    "plt.show()\n",
    "\n",
    "\n"
   ]
  }
 ],
 "metadata": {
  "kernelspec": {
   "display_name": ".venv",
   "language": "python",
   "name": "python3"
  },
  "language_info": {
   "codemirror_mode": {
    "name": "ipython",
    "version": 3
   },
   "file_extension": ".py",
   "mimetype": "text/x-python",
   "name": "python",
   "nbconvert_exporter": "python",
   "pygments_lexer": "ipython3",
   "version": "3.11.9"
  }
 },
 "nbformat": 4,
 "nbformat_minor": 2
}
